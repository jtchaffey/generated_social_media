{
 "cells": [
  {
   "cell_type": "markdown",
   "metadata": {},
   "source": [
    "# Clean & Analyze Social Media"
   ]
  },
  {
   "cell_type": "markdown",
   "metadata": {},
   "source": [
    "## Introduction\n",
    "\n",
    "Social media has become a ubiquitous part of modern life, with platforms such as Instagram, Twitter, and Facebook serving as essential communication channels. Social media data sets are vast and complex, making analysis a challenging task for businesses and researchers alike. In this project, we explore a simulated social media, for example Tweets, data set to understand trends in likes across different categories.\n",
    "\n",
    "## Prerequisites\n",
    "\n",
    "To follow along with this project, you should have a basic understanding of Python programming and data analysis concepts. In addition, you may want to use the following packages in your Python environment:\n",
    "\n",
    "- pandas\n",
    "- Matplotlib\n",
    "- ...\n",
    "\n",
    "These packages should already be installed in Coursera's Jupyter Notebook environment, however if you'd like to install additional packages that are not included in this environment or are working off platform you can install additional packages using `!pip install packagename` within a notebook cell such as:\n",
    "\n",
    "- `!pip install pandas`\n",
    "- `!pip install matplotlib`\n",
    "\n",
    "## Project Scope\n",
    "\n",
    "The objective of this project is to analyze tweets (or other social media data) and gain insights into user engagement. We will explore the data set using visualization techniques to understand the distribution of likes across different categories. Finally, we will analyze the data to draw conclusions about the most popular categories and the overall engagement on the platform.\n",
    "\n",
    "## Importing Required Libraries\n",
    "\n",
    "As the name suggests, the first step is to import all the necessary libraries that will be used in the project. In this case, we need pandas, numpy, matplotlib, seaborn, and random libraries.\n",
    "\n",
    "Pandas is a library used for data manipulation and analysis. Numpy is a library used for numerical computations. Matplotlib is a library used for data visualization. Seaborn is a library used for statistical data visualization. Random is a library used to generate random numbers."
   ]
  },
  {
   "cell_type": "code",
   "execution_count": 1,
   "metadata": {},
   "outputs": [],
   "source": [
    "# import packages and libraries\n",
    "import pandas as pd\n",
    "import numpy as np\n",
    "import matplotlib.pyplot as plt\n",
    "import seaborn as sns\n",
    "import random as rand"
   ]
  },
  {
   "cell_type": "markdown",
   "metadata": {},
   "source": [
    "## Generating social media data"
   ]
  },
  {
   "cell_type": "code",
   "execution_count": 3,
   "metadata": {},
   "outputs": [],
   "source": [
    "# define list of categories for random data\n",
    "categories = ['food', 'travel', 'fashion', 'fitness', 'music', 'culture', 'family', 'health']\n",
    "\n",
    "# generate data dictionary with date, category, and number of like columns\n",
    "data = {'date': pd.date_range('2023-01-01', periods=500),\n",
    "        'category': [rand.choice(categories) for _ in range(500)],\n",
    "        'likes': np.random.randint(0, 10000, size=500)}"
   ]
  },
  {
   "cell_type": "markdown",
   "metadata": {},
   "source": [
    "Generating new social media data will result in new, and potentially unique, sets of data each time this cell is executed. Because of this, following Markdown cells may not accurately specify the same data as generated for the initial run of this project. However, the code is still meant to be broadly applicable and should still function as intended.\n",
    "\n",
    "For instance, due to the way the data generation is structured in this section, missing or duplicate values should continue to never appear in the dataset, because the range to generate values from does not include these possibilities, and each entry in the dataframe has a unique date."
   ]
  },
  {
   "cell_type": "markdown",
   "metadata": {},
   "source": [
    "## Data exploration"
   ]
  },
  {
   "cell_type": "code",
   "execution_count": 4,
   "metadata": {},
   "outputs": [
    {
     "data": {
      "text/html": [
       "<div>\n",
       "<style scoped>\n",
       "    .dataframe tbody tr th:only-of-type {\n",
       "        vertical-align: middle;\n",
       "    }\n",
       "\n",
       "    .dataframe tbody tr th {\n",
       "        vertical-align: top;\n",
       "    }\n",
       "\n",
       "    .dataframe thead th {\n",
       "        text-align: right;\n",
       "    }\n",
       "</style>\n",
       "<table border=\"1\" class=\"dataframe\">\n",
       "  <thead>\n",
       "    <tr style=\"text-align: right;\">\n",
       "      <th></th>\n",
       "      <th>date</th>\n",
       "      <th>category</th>\n",
       "      <th>likes</th>\n",
       "    </tr>\n",
       "  </thead>\n",
       "  <tbody>\n",
       "    <tr>\n",
       "      <th>0</th>\n",
       "      <td>2023-01-01</td>\n",
       "      <td>culture</td>\n",
       "      <td>6293</td>\n",
       "    </tr>\n",
       "    <tr>\n",
       "      <th>1</th>\n",
       "      <td>2023-01-02</td>\n",
       "      <td>music</td>\n",
       "      <td>5627</td>\n",
       "    </tr>\n",
       "    <tr>\n",
       "      <th>2</th>\n",
       "      <td>2023-01-03</td>\n",
       "      <td>culture</td>\n",
       "      <td>8805</td>\n",
       "    </tr>\n",
       "    <tr>\n",
       "      <th>3</th>\n",
       "      <td>2023-01-04</td>\n",
       "      <td>fashion</td>\n",
       "      <td>3046</td>\n",
       "    </tr>\n",
       "    <tr>\n",
       "      <th>4</th>\n",
       "      <td>2023-01-05</td>\n",
       "      <td>fashion</td>\n",
       "      <td>9008</td>\n",
       "    </tr>\n",
       "    <tr>\n",
       "      <th>5</th>\n",
       "      <td>2023-01-06</td>\n",
       "      <td>food</td>\n",
       "      <td>2866</td>\n",
       "    </tr>\n",
       "    <tr>\n",
       "      <th>6</th>\n",
       "      <td>2023-01-07</td>\n",
       "      <td>travel</td>\n",
       "      <td>4676</td>\n",
       "    </tr>\n",
       "    <tr>\n",
       "      <th>7</th>\n",
       "      <td>2023-01-08</td>\n",
       "      <td>travel</td>\n",
       "      <td>7440</td>\n",
       "    </tr>\n",
       "    <tr>\n",
       "      <th>8</th>\n",
       "      <td>2023-01-09</td>\n",
       "      <td>fashion</td>\n",
       "      <td>467</td>\n",
       "    </tr>\n",
       "    <tr>\n",
       "      <th>9</th>\n",
       "      <td>2023-01-10</td>\n",
       "      <td>culture</td>\n",
       "      <td>7811</td>\n",
       "    </tr>\n",
       "  </tbody>\n",
       "</table>\n",
       "</div>"
      ],
      "text/plain": [
       "        date category  likes\n",
       "0 2023-01-01  culture   6293\n",
       "1 2023-01-02    music   5627\n",
       "2 2023-01-03  culture   8805\n",
       "3 2023-01-04  fashion   3046\n",
       "4 2023-01-05  fashion   9008\n",
       "5 2023-01-06     food   2866\n",
       "6 2023-01-07   travel   4676\n",
       "7 2023-01-08   travel   7440\n",
       "8 2023-01-09  fashion    467\n",
       "9 2023-01-10  culture   7811"
      ]
     },
     "execution_count": 4,
     "metadata": {},
     "output_type": "execute_result"
    }
   ],
   "source": [
    "# inspect first few rows of generated dataframe\n",
    "df0 = pd.DataFrame(data)\n",
    "df0.head(10)"
   ]
  },
  {
   "cell_type": "code",
   "execution_count": 5,
   "metadata": {},
   "outputs": [
    {
     "data": {
      "text/plain": [
       "music      76\n",
       "fitness    67\n",
       "family     65\n",
       "food       63\n",
       "travel     61\n",
       "culture    59\n",
       "fashion    55\n",
       "health     54\n",
       "Name: category, dtype: int64"
      ]
     },
     "execution_count": 5,
     "metadata": {},
     "output_type": "execute_result"
    }
   ],
   "source": [
    "# inspect category counts for dataframe\n",
    "df0['category'].value_counts()"
   ]
  },
  {
   "cell_type": "markdown",
   "metadata": {},
   "source": [
    "## Data cleaning"
   ]
  },
  {
   "cell_type": "code",
   "execution_count": 6,
   "metadata": {},
   "outputs": [
    {
     "name": "stdout",
     "output_type": "stream",
     "text": [
      "        date category  likes\n",
      "0 2023-01-01  culture   6293\n",
      "1 2023-01-02    music   5627\n",
      "2 2023-01-03  culture   8805\n",
      "3 2023-01-04  fashion   3046\n",
      "4 2023-01-05  fashion   9008\n",
      "5 2023-01-06     food   2866\n",
      "6 2023-01-07   travel   4676\n",
      "7 2023-01-08   travel   7440\n",
      "8 2023-01-09  fashion    467\n",
      "9 2023-01-10  culture   7811\n"
     ]
    }
   ],
   "source": [
    "# inspect dataframe for potential removal of null values\n",
    "df0.isna().sum()\n",
    "\n",
    "# all periods are found to not have missing values\n",
    "# to preserve original data, a new dataframe will be created, which would be a useful additional step if there had been missing values\n",
    "df1 = df0.dropna()\n",
    "print(df1.head(10))"
   ]
  },
  {
   "cell_type": "code",
   "execution_count": 7,
   "metadata": {},
   "outputs": [
    {
     "name": "stdout",
     "output_type": "stream",
     "text": [
      "        date category  likes\n",
      "0 2023-01-01  culture   6293\n",
      "1 2023-01-02    music   5627\n",
      "2 2023-01-03  culture   8805\n",
      "3 2023-01-04  fashion   3046\n",
      "4 2023-01-05  fashion   9008\n",
      "5 2023-01-06     food   2866\n",
      "6 2023-01-07   travel   4676\n",
      "7 2023-01-08   travel   7440\n",
      "8 2023-01-09  fashion    467\n",
      "9 2023-01-10  culture   7811\n"
     ]
    }
   ],
   "source": [
    "# inspect dataframe for potential removal of duplicate values\n",
    "df0.duplicated().sum()\n",
    "\n",
    "# the dataframe is found to not have any duplicated values\n",
    "# continuing with preserving the original data, df1 will be modified with the extra step of removing duplicate values, which would be useful in cases where they had been present\n",
    "df1.dropna(inplace = True)\n",
    "print(df1.head(10))"
   ]
  },
  {
   "cell_type": "code",
   "execution_count": 8,
   "metadata": {},
   "outputs": [
    {
     "data": {
      "text/plain": [
       "date        datetime64[ns]\n",
       "category            object\n",
       "likes                int64\n",
       "dtype: object"
      ]
     },
     "execution_count": 8,
     "metadata": {},
     "output_type": "execute_result"
    }
   ],
   "source": [
    "# examine data types of variables in dataframe to prepare for future steps\n",
    "df1.dtypes"
   ]
  },
  {
   "cell_type": "markdown",
   "metadata": {},
   "source": [
    "No null values or duplicated entries were found to be present in the data, so no data was needed to be removed from the dataframe prior to the next steps. The data types of each variable were inspected, with the `date` variable having the `datetime64` dtype, `category` having the `object` dtype, and `likes` having the `int` dtype. These data types are expected, but minor transformations are needed in order to proceed."
   ]
  },
  {
   "cell_type": "code",
   "execution_count": 9,
   "metadata": {},
   "outputs": [
    {
     "name": "stdout",
     "output_type": "stream",
     "text": [
      "        date category  likes\n",
      "0 2023-01-01  culture   6293\n",
      "1 2023-01-02    music   5627\n",
      "2 2023-01-03  culture   8805\n",
      "3 2023-01-04  fashion   3046\n",
      "4 2023-01-05  fashion   9008\n",
      "5 2023-01-06     food   2866\n",
      "6 2023-01-07   travel   4676\n",
      "7 2023-01-08   travel   7440\n",
      "8 2023-01-09  fashion    467\n",
      "9 2023-01-10  culture   7811\n"
     ]
    }
   ],
   "source": [
    "# convert `date` variable to `datetime` format to ensure consistency of the column\n",
    "df1['date'] = pd.to_datetime(df1['date'])\n",
    "# check the first few rows to check work\n",
    "print(df1.head(10))"
   ]
  },
  {
   "cell_type": "code",
   "execution_count": 10,
   "metadata": {},
   "outputs": [
    {
     "name": "stdout",
     "output_type": "stream",
     "text": [
      "        date category  likes\n",
      "0 2023-01-01  culture   6293\n",
      "1 2023-01-02    music   5627\n",
      "2 2023-01-03  culture   8805\n",
      "3 2023-01-04  fashion   3046\n",
      "4 2023-01-05  fashion   9008\n",
      "5 2023-01-06     food   2866\n",
      "6 2023-01-07   travel   4676\n",
      "7 2023-01-08   travel   7440\n",
      "8 2023-01-09  fashion    467\n",
      "9 2023-01-10  culture   7811\n"
     ]
    }
   ],
   "source": [
    "# convert `likes` variable to `integer` format\n",
    "df1['likes'] = df1['likes'].astype(int)\n",
    "# check first few rows to check work\n",
    "print(df1.head(10))"
   ]
  },
  {
   "cell_type": "code",
   "execution_count": 11,
   "metadata": {},
   "outputs": [
    {
     "data": {
      "text/plain": [
       "date        datetime64[ns]\n",
       "category            object\n",
       "likes                int64\n",
       "dtype: object"
      ]
     },
     "execution_count": 11,
     "metadata": {},
     "output_type": "execute_result"
    }
   ],
   "source": [
    "# recheck dataframe data types to ensure they have properly changed\n",
    "df1.dtypes\n",
    "# although there were no changes to dtypes in this instance, these steps should still have been used to thoroughly check the quality of data"
   ]
  },
  {
   "cell_type": "code",
   "execution_count": 12,
   "metadata": {},
   "outputs": [
    {
     "data": {
      "text/plain": [
       "music      76\n",
       "fitness    67\n",
       "family     65\n",
       "food       63\n",
       "travel     61\n",
       "culture    59\n",
       "fashion    55\n",
       "health     54\n",
       "Name: category, dtype: int64"
      ]
     },
     "execution_count": 12,
     "metadata": {},
     "output_type": "execute_result"
    }
   ],
   "source": [
    "# recheck value counts of categories after duplicate/missing values have been removed from the data\n",
    "df1['category'].value_counts()"
   ]
  },
  {
   "cell_type": "markdown",
   "metadata": {},
   "source": [
    "## Data visualization"
   ]
  },
  {
   "cell_type": "code",
   "execution_count": 13,
   "metadata": {},
   "outputs": [
    {
     "data": {
      "text/html": [
       "<div>\n",
       "<style scoped>\n",
       "    .dataframe tbody tr th:only-of-type {\n",
       "        vertical-align: middle;\n",
       "    }\n",
       "\n",
       "    .dataframe tbody tr th {\n",
       "        vertical-align: top;\n",
       "    }\n",
       "\n",
       "    .dataframe thead th {\n",
       "        text-align: right;\n",
       "    }\n",
       "</style>\n",
       "<table border=\"1\" class=\"dataframe\">\n",
       "  <thead>\n",
       "    <tr style=\"text-align: right;\">\n",
       "      <th></th>\n",
       "      <th>likes</th>\n",
       "    </tr>\n",
       "  </thead>\n",
       "  <tbody>\n",
       "    <tr>\n",
       "      <th>count</th>\n",
       "      <td>500.000000</td>\n",
       "    </tr>\n",
       "    <tr>\n",
       "      <th>mean</th>\n",
       "      <td>5097.152000</td>\n",
       "    </tr>\n",
       "    <tr>\n",
       "      <th>std</th>\n",
       "      <td>2888.912159</td>\n",
       "    </tr>\n",
       "    <tr>\n",
       "      <th>min</th>\n",
       "      <td>37.000000</td>\n",
       "    </tr>\n",
       "    <tr>\n",
       "      <th>25%</th>\n",
       "      <td>2605.500000</td>\n",
       "    </tr>\n",
       "    <tr>\n",
       "      <th>50%</th>\n",
       "      <td>5322.000000</td>\n",
       "    </tr>\n",
       "    <tr>\n",
       "      <th>75%</th>\n",
       "      <td>7445.500000</td>\n",
       "    </tr>\n",
       "    <tr>\n",
       "      <th>max</th>\n",
       "      <td>9999.000000</td>\n",
       "    </tr>\n",
       "  </tbody>\n",
       "</table>\n",
       "</div>"
      ],
      "text/plain": [
       "             likes\n",
       "count   500.000000\n",
       "mean   5097.152000\n",
       "std    2888.912159\n",
       "min      37.000000\n",
       "25%    2605.500000\n",
       "50%    5322.000000\n",
       "75%    7445.500000\n",
       "max    9999.000000"
      ]
     },
     "execution_count": 13,
     "metadata": {},
     "output_type": "execute_result"
    }
   ],
   "source": [
    "# identify general statistics about social media posts\n",
    "df1.describe()"
   ]
  },
  {
   "cell_type": "code",
   "execution_count": 14,
   "metadata": {},
   "outputs": [
    {
     "data": {
      "image/png": "[encoded data removed]",
      "text/plain": [
       "<Figure size 432x432 with 1 Axes>"
      ]
     },
     "metadata": {
      "needs_background": "light"
     },
     "output_type": "display_data"
    }
   ],
   "source": [
    "# create boxplot for visualization of `likes` across all categories of posts\n",
    "plt.figure(figsize=(6,6))\n",
    "plt.title('Boxplot of social media post likes', fontsize=12)\n",
    "plt.xticks(fontsize=12)\n",
    "plt.yticks(fontsize=12)\n",
    "sns.boxplot(x=df1['likes'])\n",
    "plt.show()\n",
    "# using a boxplot will also help to identify potential outliers in the data"
   ]
  },
  {
   "cell_type": "markdown",
   "metadata": {},
   "source": [
    "A visualized boxplot of `likes` containing values from social media posts across all categories displays a broad range of values, with no outliers outside the whiskers of the boxplot. The minimum values of likes is observed to be roughly 0, with a maximum around 10000. The average value of likes across the posts is between 4000 and 6000, visually estimated to be roughly 5250.\n",
    "\n",
    "Use of the `describe` function with the data confirms these values, with a minimum of 37, maximum of 9999, and an average of 5097."
   ]
  },
  {
   "cell_type": "code",
   "execution_count": 28,
   "metadata": {
    "scrolled": true
   },
   "outputs": [
    {
     "data": {
      "text/plain": [
       "<matplotlib.axes._subplots.AxesSubplot at 0x7f1465edd710>"
      ]
     },
     "execution_count": 28,
     "metadata": {},
     "output_type": "execute_result"
    },
    {
     "data": {
      "image/png": "[encoded data removed]",
      "text/plain": [
       "<Figure size 432x288 with 1 Axes>"
      ]
     },
     "metadata": {
      "needs_background": "light"
     },
     "output_type": "display_data"
    }
   ],
   "source": [
    "# histogram of social media posts based on `like` values\n",
    "sns.histplot(data=df1, x='likes', kde=True, bins=20)"
   ]
  },
  {
   "cell_type": "markdown",
   "metadata": {},
   "source": [
    "For this dataset there does not appear to be a consistent trend for `like` values. If using actual data, values may be more likely to have a normal distribution, with relatively few posts achieving the highest `like` values, and a higher count of posts with `like` values surrounding the median value.\n",
    "\n",
    "Going forward, it may be most useful to identify categories of posts with the highest concentration and mean value of `likes`, as well as the category of post which is able to achieve the most `likes`."
   ]
  },
  {
   "cell_type": "code",
   "execution_count": 15,
   "metadata": {},
   "outputs": [
    {
     "data": {
      "text/plain": [
       "<matplotlib.axes._subplots.AxesSubplot at 0x7f147c75a6d0>"
      ]
     },
     "execution_count": 15,
     "metadata": {},
     "output_type": "execute_result"
    },
    {
     "data": {
      "image/png": "[encoded data removed]",
      "text/plain": [
       "<Figure size 432x288 with 1 Axes>"
      ]
     },
     "metadata": {
      "needs_background": "light"
     },
     "output_type": "display_data"
    }
   ],
   "source": [
    "# boxplot for `likes` by `category` of post\n",
    "sns.boxplot(data=df1, x='category', y='likes', width=.75)"
   ]
  },
  {
   "cell_type": "markdown",
   "metadata": {},
   "source": [
    "Based on the box plots for each category of social media post, each category has a high degree of variation to which posts get likes. Minimum and maximum values of `likes` for each `category` are roughly similar for each, and many of the categories have similar average values, those being the `category` of `culture`, `food`, `fitness`, and `health`. The category of `music` and `family` have slightly higher average `like` values, while `travel` has a slightly lower average, and `fashion` has a noticeably lower average.\n",
    "\n",
    "The `health` and `travel` categories have quartile values closest to their category-averages, suggesting a higher consistency in likes for that category of posts than others."
   ]
  },
  {
   "cell_type": "code",
   "execution_count": 44,
   "metadata": {},
   "outputs": [
    {
     "data": {
      "text/html": [
       "<div>\n",
       "<style scoped>\n",
       "    .dataframe tbody tr th:only-of-type {\n",
       "        vertical-align: middle;\n",
       "    }\n",
       "\n",
       "    .dataframe tbody tr th {\n",
       "        vertical-align: top;\n",
       "    }\n",
       "\n",
       "    .dataframe thead th {\n",
       "        text-align: right;\n",
       "    }\n",
       "</style>\n",
       "<table border=\"1\" class=\"dataframe\">\n",
       "  <thead>\n",
       "    <tr style=\"text-align: right;\">\n",
       "      <th></th>\n",
       "      <th>likes</th>\n",
       "    </tr>\n",
       "    <tr>\n",
       "      <th>category</th>\n",
       "      <th></th>\n",
       "    </tr>\n",
       "  </thead>\n",
       "  <tbody>\n",
       "    <tr>\n",
       "      <th>culture</th>\n",
       "      <td>4753.440678</td>\n",
       "    </tr>\n",
       "    <tr>\n",
       "      <th>family</th>\n",
       "      <td>5351.338462</td>\n",
       "    </tr>\n",
       "    <tr>\n",
       "      <th>fashion</th>\n",
       "      <td>4399.018182</td>\n",
       "    </tr>\n",
       "    <tr>\n",
       "      <th>fitness</th>\n",
       "      <td>4895.925373</td>\n",
       "    </tr>\n",
       "    <tr>\n",
       "      <th>food</th>\n",
       "      <td>5039.682540</td>\n",
       "    </tr>\n",
       "    <tr>\n",
       "      <th>health</th>\n",
       "      <td>5394.074074</td>\n",
       "    </tr>\n",
       "    <tr>\n",
       "      <th>music</th>\n",
       "      <td>5510.342105</td>\n",
       "    </tr>\n",
       "    <tr>\n",
       "      <th>travel</th>\n",
       "      <td>5290.934426</td>\n",
       "    </tr>\n",
       "  </tbody>\n",
       "</table>\n",
       "</div>"
      ],
      "text/plain": [
       "                likes\n",
       "category             \n",
       "culture   4753.440678\n",
       "family    5351.338462\n",
       "fashion   4399.018182\n",
       "fitness   4895.925373\n",
       "food      5039.682540\n",
       "health    5394.074074\n",
       "music     5510.342105\n",
       "travel    5290.934426"
      ]
     },
     "execution_count": 44,
     "metadata": {},
     "output_type": "execute_result"
    }
   ],
   "source": [
    "# calculate mean `like` values for the posts of each `category`\n",
    "df1.groupby('category').mean()"
   ]
  },
  {
   "cell_type": "markdown",
   "metadata": {},
   "source": [
    "Information found through the `groupby` method honed in on the insights gained through the above boxplots. `fashion` as a category has the lowest mean when compared to the others, with `music`, `health`, `family`, and `travel` mean like values being relatively higher, around 5300. The categories of `culture`, `fitness`, and `food` are in the middle of the pack, having mean like values hovering around 5000.\n",
    "\n",
    "Contrary to the visual observations stated above, `travel` and `health` have values in the upper half of the like-mean values, which could be attributed to visual discrepancies. It was a valuable decision to check the actual mean values."
   ]
  },
  {
   "cell_type": "code",
   "execution_count": 43,
   "metadata": {},
   "outputs": [
    {
     "data": {
      "text/plain": [
       "<matplotlib.axes._subplots.AxesSubplot at 0x7f14632e9790>"
      ]
     },
     "execution_count": 43,
     "metadata": {},
     "output_type": "execute_result"
    },
    {
     "data": {
      "image/png": "[encoded data removed]",
      "text/plain": [
       "<Figure size 432x288 with 1 Axes>"
      ]
     },
     "metadata": {
      "needs_background": "light"
     },
     "output_type": "display_data"
    }
   ],
   "source": [
    "# histogram showing count of post `likes`, separated by `category`\n",
    "sns.histplot(df1, x='likes', hue='category', fill=False)"
   ]
  },
  {
   "cell_type": "markdown",
   "metadata": {},
   "source": [
    "While visually intimidating, this histogram does display some key pieces of information that this project was aiming to find. For this dataset, posts in the `music` category were able to achieve the social media posts with the most likes across all categories, with those 12 posts reaching above 9000 likes. Other categories were able to achieve similar successes, with `family`-categorized posts having 8 posts reach that threshold, `food` having 7, and `travel` having 6.\n",
    "\n",
    "In a broader scope, this information is not too applicable to providing broader insights on post-liking behavior. Although `music` had several of the most-liked posts, that is only 12 of the 76, and there are similar small ratios for the other categories. It would prove difficult to mimic the success of these high-like achieving posts based on solely the information in this project."
   ]
  },
  {
   "cell_type": "markdown",
   "metadata": {},
   "source": [
    "## Conclusions\n",
    "\n",
    "The process of data analysis in this project was relatively small. There were only 3 variables present in the dataframe to work with, and the `date` variable was not used at all throughout the analysis process (and only would not have provided useful information). The practices of randomly-generating data and creating tables and visualizations was useful, but the scope of the data seemed to limit the insights that could be gained from the dataset.\n",
    "\n",
    "Insights gained about the randomly-generated data primarily concerned specific categories of posts. A wide variety of posts were generated, with nearly the entire range of possible `likes` (0-10000) being covered. The \"sampling\" of data did not lead to one category being over-represented compared to others, with each of the 8 categories having at least 50 entries and a maximum under 80 entries.\n",
    "\n",
    "In terms of actionable in-sights, user engagement is highest with posts categorized as `music`, `health`, `family`, or `travel`. This is indicated by the higher mean amount of `likes` for these posts. Individual posts with the highest engagement were in the `music`, `family`, `food`, and `travel` categories, matching three of the categories with higher mean `likes`. Because of this, those seeking high post engagement, or seeking to study posts with high engagement, should start with posts in `music`, `family`, and `travel`, as suggested by this data.\n",
    "\n",
    "Limitations of the data come from it being highly idealized. In reality, there are far more social media posts being created on a daily basis. In comparison to the data used here, 500 posts to analyze don't seem very likely to accurately reflect social media trends and posts happening in reality, which may produce patterns in stark contrast to the randomly-generated ones presented here. Posts in this project were also only able to be contained in a single category, which is another factor which seems to limit the applicability of data. What should a post where a group of friends travel to a destination concert-venue for a music festival be categorized as? `culture`? `music`? `travel`? In this simplified instance, that post could only be in one of the categories, whereas reality would likely be able to have it fit under any combination of these."
   ]
  }
 ],
 "metadata": {
  "kernelspec": {
   "display_name": "Python 3",
   "language": "python",
   "name": "python3"
  },
  "language_info": {
   "codemirror_mode": {
    "name": "ipython",
    "version": 3
   },
   "file_extension": ".py",
   "mimetype": "text/x-python",
   "name": "python",
   "nbconvert_exporter": "python",
   "pygments_lexer": "ipython3",
   "version": "3.7.6"
  }
 },
 "nbformat": 4,
 "nbformat_minor": 4
}
